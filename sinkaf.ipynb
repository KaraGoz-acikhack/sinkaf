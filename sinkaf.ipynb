{
 "metadata": {
  "language_info": {
   "codemirror_mode": {
    "name": "ipython",
    "version": 3
   },
   "file_extension": ".py",
   "mimetype": "text/x-python",
   "name": "python",
   "nbconvert_exporter": "python",
   "pygments_lexer": "ipython3",
   "version": "3.9.1-final"
  },
  "orig_nbformat": 2,
  "kernelspec": {
   "name": "python3",
   "display_name": "Python 3.9.1 64-bit",
   "metadata": {
    "interpreter": {
     "hash": "aee8b7b246df8f9039afb4144a1f6fd8d2ca17a180786b69acc140d282b71a49"
    }
   }
  }
 },
 "nbformat": 4,
 "nbformat_minor": 2,
 "cells": [
  {
   "cell_type": "code",
   "execution_count": 1,
   "metadata": {},
   "outputs": [],
   "source": [
    "import pandas as pd\n",
    "import numpy as np\n",
    "import re\n",
    "import string\n",
    "import matplotlib.pyplot as plt"
   ]
  },
  {
   "cell_type": "code",
   "execution_count": 2,
   "metadata": {},
   "outputs": [],
   "source": [
    "data = pd.read_csv(\"sinkaf/data/troff-v1.0.tsv\",  sep='\\t')\n",
    "\n",
    "# punctuation table\n",
    "table = str.maketrans('', '', string.punctuation)\n",
    "\n",
    "def lower(s):\n",
    "    return s.lower()\n",
    "\n",
    "def removeUserNames(s):\n",
    "    return re.sub('@[^\\s]+','',s)\n",
    "\n",
    "def removeNumbers(s):\n",
    "    return re.sub('[0-9]','',s)\n",
    "\n",
    "def removePunctuation(s):\n",
    "    res = [w.translate(table) for w in s.split()]\n",
    "    return \" \".join(res)\n",
    "\n",
    "def nStemmer(s, n):\n",
    "    if(n>0):\n",
    "        res = [x[:n] for x in s.split()]\n",
    "        return \" \".join(res)\n",
    "    raise Exception(\"n must be a positive integer!\")\n",
    "\n",
    "\n",
    "def preProcess(s, n=5):\n",
    "    return nStemmer(removePunctuation(removeNumbers(removeUserNames(lower(s)))),n)\n",
    "\n",
    "data['text'] = data['text'].apply(lambda x: preProcess(x, 10))"
   ]
  },
  {
   "cell_type": "code",
   "execution_count": 3,
   "metadata": {},
   "outputs": [],
   "source": [
    "# create labels vector for training\n",
    "# modeli egitmek icin siniflandirmalari olustur\n",
    "data['label_sinkaf'] = data['label'] != 'non'"
   ]
  },
  {
   "cell_type": "code",
   "execution_count": 4,
   "metadata": {},
   "outputs": [
    {
     "output_type": "execute_result",
     "data": {
      "text/plain": [
       "False    28439\n",
       "True      6845\n",
       "Name: label_sinkaf, dtype: int64"
      ]
     },
     "metadata": {},
     "execution_count": 4
    }
   ],
   "source": [
    "# 6.8K offensive - kufurlu yorum\n",
    "# 28K  non-offensive - kufursuz yorum\n",
    "data['label_sinkaf'].value_counts()"
   ]
  },
  {
   "cell_type": "code",
   "execution_count": 5,
   "metadata": {},
   "outputs": [],
   "source": [
    "stop_words_tr = pd.read_csv(\"https://raw.githubusercontent.com/ahmetax/trstop/master/dosyalar/turkce-stop-words\", header=None)\n",
    "\n",
    "stop_words_tr = stop_words_tr[0].to_numpy()"
   ]
  },
  {
   "cell_type": "code",
   "execution_count": 6,
   "metadata": {},
   "outputs": [],
   "source": [
    "from sklearn.feature_extraction.text import CountVectorizer\n",
    "from sklearn.feature_extraction.text import TfidfVectorizer\n",
    "from sklearn.calibration import CalibratedClassifierCV\n",
    "from sklearn.svm import LinearSVC, SVC\n",
    "from sklearn.model_selection import train_test_split\n",
    "from sklearn.naive_bayes import MultinomialNB\n",
    "from sklearn.metrics import classification_report\n",
    "from sklearn.model_selection import GridSearchCV\n"
   ]
  },
  {
   "cell_type": "code",
   "execution_count": 7,
   "metadata": {
    "tags": []
   },
   "outputs": [
    {
     "output_type": "stream",
     "name": "stdout",
     "text": [
      "26740\n"
     ]
    }
   ],
   "source": [
    "vectorizer = TfidfVectorizer(stop_words=frozenset(stop_words_tr), min_df=2)\n",
    "\n",
    "\n",
    "X = data['text']\n",
    "y = data['label_sinkaf']\n",
    "\n",
    "X_train, X_test, y_train, y_test = train_test_split(X,y)\n",
    "\n",
    "X_train = vectorizer.fit_transform(X_train)\n",
    "X_test = vectorizer.transform(X_test)\n",
    "\n",
    "print(len(vectorizer.get_feature_names()))"
   ]
  },
  {
   "cell_type": "code",
   "execution_count": 8,
   "metadata": {},
   "outputs": [
    {
     "output_type": "execute_result",
     "data": {
      "text/plain": [
       "False    21354\n",
       "True     21354\n",
       "Name: label_sinkaf, dtype: int64"
      ]
     },
     "metadata": {},
     "execution_count": 8
    }
   ],
   "source": [
    "from imblearn.over_sampling import SMOTE\n",
    "\n",
    "smote = SMOTE(sampling_strategy=1)\n",
    "X_sm, y_sm = smote.fit_sample(X_train, y_train)\n",
    "\n",
    "y_sm.value_counts()"
   ]
  },
  {
   "cell_type": "code",
   "execution_count": 9,
   "metadata": {},
   "outputs": [
    {
     "output_type": "execute_result",
     "data": {
      "text/plain": [
       "CalibratedClassifierCV(base_estimator=MultinomialNB())"
      ]
     },
     "metadata": {},
     "execution_count": 9
    }
   ],
   "source": [
    "model = LinearSVC(class_weight=\"balanced\", tol=1e-2, max_iter=1e5)\n",
    "model = MultinomialNB()\n",
    "cclf = CalibratedClassifierCV(base_estimator=model)\n",
    "cclf.fit(X_sm, y_sm)"
   ]
  },
  {
   "cell_type": "code",
   "execution_count": 10,
   "metadata": {},
   "outputs": [
    {
     "output_type": "stream",
     "name": "stdout",
     "text": [
      "{'base_estimator__alpha': 1.0, 'base_estimator__class_prior': None, 'base_estimator__fit_prior': True, 'base_estimator': MultinomialNB(), 'cv': None, 'ensemble': True, 'method': 'sigmoid', 'n_jobs': None}\nTrain acc:\t0.906\nTest acc:\t0.790\n              precision    recall  f1-score   support\n\n       False       0.98      0.91      0.94     21354\n        True       0.70      0.91      0.79      5109\n\n    accuracy                           0.91     26463\n   macro avg       0.84      0.91      0.86     26463\nweighted avg       0.92      0.91      0.91     26463\n\n              precision    recall  f1-score   support\n\n       False       0.90      0.83      0.86      7085\n        True       0.47      0.61      0.53      1736\n\n    accuracy                           0.79      8821\n   macro avg       0.69      0.72      0.70      8821\nweighted avg       0.81      0.79      0.80      8821\n\n"
     ]
    }
   ],
   "source": [
    "\n",
    "print(cclf.get_params())\n",
    "print(\"Train acc:\\t{0:.3f}\".format(cclf.score(X_train, y_train)))\n",
    "print(\"Test acc:\\t{0:.3f}\".format(cclf.score(X_test, y_test)))\n",
    "\n",
    "print(classification_report(y_train, cclf.predict(X_train)))\n",
    "print(classification_report(y_test, cclf.predict(X_test)))\n"
   ]
  },
  {
   "cell_type": "code",
   "execution_count": 28,
   "metadata": {},
   "outputs": [
    {
     "output_type": "execute_result",
     "data": {
      "text/plain": [
       "array([ True,  True])"
      ]
     },
     "metadata": {},
     "execution_count": 28
    }
   ],
   "source": [
    "# Offensive? - Kufur mu?\n",
    "\n",
    "test = [\"cok iyi\", \n",
    "        \"bi git\", \n",
    "        \"bi siktir git\", \n",
    "        \"bi defol\",\n",
    "        \"mukemmel bir insansin\"]\n",
    "\n",
    "test_processed = vectorizer.transform([preProcess(p, 10) for p in test])\n",
    "cclf.predict(test_processed)"
   ]
  },
  {
   "cell_type": "code",
   "execution_count": 12,
   "metadata": {},
   "outputs": [
    {
     "output_type": "execute_result",
     "data": {
      "text/plain": [
       "array([0.0353452 , 0.94855021, 0.99565792, 0.98383419, 0.06143363])"
      ]
     },
     "metadata": {},
     "execution_count": 12
    }
   ],
   "source": [
    "np.set_printoptions(suppress=True)\n",
    "\n",
    "cclf.predict_proba(test_processed)[:,1]"
   ]
  },
  {
   "cell_type": "code",
   "execution_count": 13,
   "metadata": {},
   "outputs": [
    {
     "output_type": "execute_result",
     "data": {
      "text/plain": [
       "['sinkaf/data/model.joblib']"
      ]
     },
     "metadata": {},
     "execution_count": 13
    }
   ],
   "source": [
    "import joblib\n",
    "\n",
    "#dump it (higher), dump it (higher!)\n",
    "joblib.dump(vectorizer, \"sinkaf/data/vectorizer.joblib\")\n",
    "joblib.dump(cclf, \"sinkaf/data/model.joblib\")\n"
   ]
  }
 ]
}