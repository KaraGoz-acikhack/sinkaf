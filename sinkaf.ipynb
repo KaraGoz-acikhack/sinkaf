{
 "metadata": {
  "language_info": {
   "codemirror_mode": {
    "name": "ipython",
    "version": 3
   },
   "file_extension": ".py",
   "mimetype": "text/x-python",
   "name": "python",
   "nbconvert_exporter": "python",
   "pygments_lexer": "ipython3",
   "version": "3.9.1-final"
  },
  "orig_nbformat": 2,
  "kernelspec": {
   "name": "python3",
   "display_name": "Python 3.9.1 64-bit",
   "metadata": {
    "interpreter": {
     "hash": "aee8b7b246df8f9039afb4144a1f6fd8d2ca17a180786b69acc140d282b71a49"
    }
   }
  }
 },
 "nbformat": 4,
 "nbformat_minor": 2,
 "cells": [
  {
   "cell_type": "code",
   "execution_count": 66,
   "metadata": {},
   "outputs": [],
   "source": [
    "import pandas as pd\n",
    "import numpy as np"
   ]
  },
  {
   "cell_type": "code",
   "execution_count": 5,
   "metadata": {},
   "outputs": [],
   "source": [
    "data = pd.read_csv(\"data/troff-v1.0.tsv\",  sep='\\t')"
   ]
  },
  {
   "cell_type": "code",
   "execution_count": 7,
   "metadata": {},
   "outputs": [
    {
     "output_type": "execute_result",
     "data": {
      "text/plain": [
       "                   id      timestamp  \\\n",
       "0  973568937593065472  1520952977415   \n",
       "1  973568937723035648  1520952977446   \n",
       "2  973568937911873536  1520952977491   \n",
       "3  973568939925090304  1520952977971   \n",
       "4  973568940667539457  1520952978148   \n",
       "\n",
       "                                                text label  \n",
       "0  @USER06095 Hırsız demişken Tuncay sizin şu 1.2...   grp  \n",
       "1  Ne bileyim sen hastayım deyince bende veterine...   ind  \n",
       "2  Akşam eve gittiğimizde yorgunluğuma iyi gelece...   grp  \n",
       "3  Kook’un sesini 18381 kez dinledikten sonra eğe...  prof  \n",
       "4  @USER05270 @USER04816 o macta adam 6 7 tane ne...   grp  "
      ],
      "text/html": "<div>\n<style scoped>\n    .dataframe tbody tr th:only-of-type {\n        vertical-align: middle;\n    }\n\n    .dataframe tbody tr th {\n        vertical-align: top;\n    }\n\n    .dataframe thead th {\n        text-align: right;\n    }\n</style>\n<table border=\"1\" class=\"dataframe\">\n  <thead>\n    <tr style=\"text-align: right;\">\n      <th></th>\n      <th>id</th>\n      <th>timestamp</th>\n      <th>text</th>\n      <th>label</th>\n    </tr>\n  </thead>\n  <tbody>\n    <tr>\n      <th>0</th>\n      <td>973568937593065472</td>\n      <td>1520952977415</td>\n      <td>@USER06095 Hırsız demişken Tuncay sizin şu 1.2...</td>\n      <td>grp</td>\n    </tr>\n    <tr>\n      <th>1</th>\n      <td>973568937723035648</td>\n      <td>1520952977446</td>\n      <td>Ne bileyim sen hastayım deyince bende veterine...</td>\n      <td>ind</td>\n    </tr>\n    <tr>\n      <th>2</th>\n      <td>973568937911873536</td>\n      <td>1520952977491</td>\n      <td>Akşam eve gittiğimizde yorgunluğuma iyi gelece...</td>\n      <td>grp</td>\n    </tr>\n    <tr>\n      <th>3</th>\n      <td>973568939925090304</td>\n      <td>1520952977971</td>\n      <td>Kook’un sesini 18381 kez dinledikten sonra eğe...</td>\n      <td>prof</td>\n    </tr>\n    <tr>\n      <th>4</th>\n      <td>973568940667539457</td>\n      <td>1520952978148</td>\n      <td>@USER05270 @USER04816 o macta adam 6 7 tane ne...</td>\n      <td>grp</td>\n    </tr>\n  </tbody>\n</table>\n</div>"
     },
     "metadata": {},
     "execution_count": 7
    }
   ],
   "source": [
    "data.head()"
   ]
  },
  {
   "cell_type": "code",
   "execution_count": 22,
   "metadata": {},
   "outputs": [
    {
     "output_type": "execute_result",
     "data": {
      "text/plain": [
       "0         hırsız demişken tuncay sizin şu 1.200 bin tl'...\n",
       "1        ne bileyim sen hastayım deyince bende veterine...\n",
       "2        akşam eve gittiğimizde yorgunluğuma iyi gelece...\n",
       "3        kook’un sesini 18381 kez dinledikten sonra eğe...\n",
       "4          o macta adam 6 7 tane net sut cikartti aksin...\n",
       "                               ...                        \n",
       "35279                    great priest elmalara pot basıyor\n",
       "35280    alkollüyken yazmaya harika bir çözüm sunuyorum...\n",
       "35281     cvp vermek istemedim ama dayanamıyor insan ta...\n",
       "35282    bazı takip ettiğim kişileri aha bu da hasta am...\n",
       "35283       allah akıl fakirliği vermesin geri hallolur :d\n",
       "Name: text, Length: 35284, dtype: object"
      ]
     },
     "metadata": {},
     "execution_count": 22
    }
   ],
   "source": [
    "# make all text lowercase\n",
    "# tum yazilari kucuk harfe cevir\n",
    "data['text'] = data['text'].str.lower()\n",
    "\n",
    "# remove usernames\n",
    "# kullanici adlarini sil\n",
    "data['text'] = data['text'].map(lambda x: re.sub('@[^\\s]+','',x))\n"
   ]
  },
  {
   "cell_type": "code",
   "execution_count": 25,
   "metadata": {},
   "outputs": [],
   "source": [
    "# create labels vector for training\n",
    "# modeli egitmek icin siniflandirmalari olustur\n",
    "data['label_sinkaf'] = data['label'] != 'non'"
   ]
  },
  {
   "cell_type": "code",
   "execution_count": 34,
   "metadata": {},
   "outputs": [
    {
     "output_type": "execute_result",
     "data": {
      "text/plain": [
       "False    28439\n",
       "True      6845\n",
       "Name: label_sinkaf, dtype: int64"
      ]
     },
     "metadata": {},
     "execution_count": 34
    }
   ],
   "source": [
    "# 6.8K offensive - kufurlu yorum\n",
    "# 28K  non-offensive - kufursuz yorum\n",
    "data['label_sinkaf'].value_counts()"
   ]
  },
  {
   "cell_type": "code",
   "execution_count": 72,
   "metadata": {},
   "outputs": [],
   "source": [
    "stop_words_tr = pd.read_csv(\"https://raw.githubusercontent.com/ahmetax/trstop/master/dosyalar/turkce-stop-words\", header=None)\n",
    "\n",
    "stop_words_tr = stop_words_tr[0].to_numpy()"
   ]
  },
  {
   "cell_type": "code",
   "execution_count": 169,
   "metadata": {},
   "outputs": [],
   "source": [
    "from sklearn.feature_extraction.text import CountVectorizer\n",
    "from sklearn.calibration import CalibratedClassifierCV\n",
    "from sklearn.svm import LinearSVC\n",
    "from sklearn.model_selection import train_test_split"
   ]
  },
  {
   "cell_type": "code",
   "execution_count": 170,
   "metadata": {},
   "outputs": [],
   "source": [
    "vectorizer = CountVectorizer(stop_words=frozenset(stop_words_tr), min_df=0.001,  ngram_range= (1, 1))\n",
    "\n",
    "X = vectorizer.fit_transform(data['text'])\n",
    "y = data['label_sinkaf']\n",
    "\n",
    "X_train, X_test, y_train, y_test = train_test_split(X,y)\n"
   ]
  },
  {
   "cell_type": "code",
   "execution_count": 171,
   "metadata": {},
   "outputs": [
    {
     "output_type": "execute_result",
     "data": {
      "text/plain": [
       "CalibratedClassifierCV(base_estimator=LinearSVC(class_weight='balanced',\n",
       "                                                dual=False, max_iter=100000.0,\n",
       "                                                tol=0.01))"
      ]
     },
     "metadata": {},
     "execution_count": 171
    }
   ],
   "source": [
    "model = LogisticRegression(class_weight=\"balanced\", dual=False, tol=1e-2, max_iter=1e5)\n",
    "\n",
    "# Train the model\n",
    "model = LinearSVC(class_weight=\"balanced\", dual=False, tol=1e-2, max_iter=1e5)\n",
    "cclf = CalibratedClassifierCV(base_estimator=model)\n",
    "cclf.fit(X_train, y_train)"
   ]
  },
  {
   "cell_type": "code",
   "execution_count": 187,
   "metadata": {},
   "outputs": [
    {
     "output_type": "stream",
     "name": "stdout",
     "text": [
      "Train acc:\t0.842\nTest acc:\t0.841\n"
     ]
    }
   ],
   "source": [
    "print(\"Train acc:\\t{0:.3f}\".format(cclf.score(X_train, y_train)))\n",
    "print(\"Test acc:\\t{0:.3f}\".format(cclf.score(X_test, y_test)))"
   ]
  },
  {
   "cell_type": "code",
   "execution_count": 188,
   "metadata": {},
   "outputs": [
    {
     "output_type": "execute_result",
     "data": {
      "text/plain": [
       "array([False,  True,  True, False])"
      ]
     },
     "metadata": {},
     "execution_count": 188
    }
   ],
   "source": [
    "# Offensive? - Kufur mu?\n",
    "cclf.predict(vectorizer.transform([\n",
    "    \"abi cok iyi\", \n",
    "    \"şerefsiz\", \n",
    "    \"göt herif yahu\", \n",
    "    \"sen ne güzel bir detaysın!\"]))"
   ]
  },
  {
   "cell_type": "code",
   "execution_count": 189,
   "metadata": {},
   "outputs": [
    {
     "output_type": "execute_result",
     "data": {
      "text/plain": [
       "array([[0.83311491, 0.16688509],\n",
       "       [0.49288601, 0.50711399],\n",
       "       [0.07407014, 0.92592986],\n",
       "       [0.86621124, 0.13378876]])"
      ]
     },
     "metadata": {},
     "execution_count": 189
    }
   ],
   "source": [
    "cclf.predict_proba(vectorizer.transform([\n",
    "    \"abi cok iyi\", \n",
    "    \"şerefsiz\", \n",
    "    \"göt herif yahu\", \n",
    "    \"sen ne güzel bir detaysın!\"]))"
   ]
  },
  {
   "cell_type": "code",
   "execution_count": null,
   "metadata": {},
   "outputs": [],
   "source": []
  }
 ]
}