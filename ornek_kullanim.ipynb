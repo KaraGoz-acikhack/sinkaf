{
 "metadata": {
  "language_info": {
   "codemirror_mode": {
    "name": "ipython",
    "version": 3
   },
   "file_extension": ".py",
   "mimetype": "text/x-python",
   "name": "python",
   "nbconvert_exporter": "python",
   "pygments_lexer": "ipython3",
   "version": "3.7.6-final"
  },
  "orig_nbformat": 2,
  "kernelspec": {
   "name": "python3",
   "display_name": "Python 3",
   "language": "python"
  }
 },
 "nbformat": 4,
 "nbformat_minor": 2,
 "cells": [
  {
   "cell_type": "code",
   "execution_count": 1,
   "metadata": {},
   "outputs": [],
   "source": [
    "from sinkaf import Sinkaf"
   ]
  },
  {
   "cell_type": "code",
   "execution_count": 2,
   "metadata": {},
   "outputs": [
    {
     "output_type": "stream",
     "name": "stdout",
     "text": [
      "Tek seferlik BERT kurulumu gerekebilir.\n"
     ]
    }
   ],
   "source": [
    "snf = Sinkaf()"
   ]
  },
  {
   "cell_type": "code",
   "execution_count": 3,
   "metadata": {},
   "outputs": [],
   "source": [
    "# Offensive? - Kufur mu?\n",
    "\n",
    "ornekler = [\n",
    "    \"guzel karisin ha\", \n",
    "    \"cok guzelsin\",\n",
    "    \"cok guzel\",\n",
    "    \"serefsiz hakem\",\n",
    "    \"ya**ak kurek isler\",\n",
    "    \"aq cocugu\",\n",
    "    \"or**pu cocugu\",\n",
    "    \"cok tatli cocuk\",\n",
    "    \"cok tatli cocuk masallah\"]"
   ]
  },
  {
   "cell_type": "code",
   "execution_count": 4,
   "metadata": {},
   "outputs": [
    {
     "output_type": "stream",
     "name": "stdout",
     "text": [
      "[ True False False  True  True  True  True  True  True]\n"
     ]
    }
   ],
   "source": [
    "# Normal model ile tahmin\n",
    "print(snf.tahmin(ornekler))"
   ]
  },
  {
   "cell_type": "code",
   "execution_count": 5,
   "metadata": {},
   "outputs": [
    {
     "output_type": "stream",
     "name": "stdout",
     "text": [
      "[0.63522267 0.30369794 0.30369794 0.97355341 0.54988011 0.9984529\n 0.85076724 0.71447683 0.70393339]\n"
     ]
    }
   ],
   "source": [
    "# Tahmin kuvveti\n",
    "print(snf.tahminlik(ornekler))"
   ]
  },
  {
   "cell_type": "code",
   "execution_count": 6,
   "metadata": {},
   "outputs": [
    {
     "output_type": "stream",
     "name": "stdout",
     "text": [
      "[ True False False  True  True  True  True False False]\n"
     ]
    }
   ],
   "source": [
    "# BERT ile tahmin\n",
    "print(snf.tahmin_nn(ornekler))"
   ]
  },
  {
   "cell_type": "code",
   "execution_count": 7,
   "metadata": {},
   "outputs": [
    {
     "output_type": "stream",
     "name": "stdout",
     "text": [
      "[0.72157208 0.20068822 0.40324319 0.77581803 0.7174493  0.89850396\n 0.89036534 0.34857396 0.25223042]\n"
     ]
    }
   ],
   "source": [
    "# Tahmin kuvveti\n",
    "print(snf.tahminlik_nn(ornekler))"
   ]
  },
  {
   "cell_type": "code",
   "execution_count": null,
   "metadata": {},
   "outputs": [],
   "source": []
  }
 ]
}